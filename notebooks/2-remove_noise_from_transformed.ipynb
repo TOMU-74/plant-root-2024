{
 "cells": [
  {
   "cell_type": "markdown",
   "metadata": {},
   "source": [
    "# 2. ノイズ除去\n",
    "\n",
    "セグメンテーション結果から根以外のノイズ部分を可能な限り除去"
   ]
  },
  {
   "cell_type": "code",
   "execution_count": 1,
   "metadata": {},
   "outputs": [],
   "source": [
    "import cv2\n",
    "import os\n",
    "import re\n",
    "import numpy as np"
   ]
  },
  {
   "cell_type": "code",
   "execution_count": 33,
   "metadata": {},
   "outputs": [],
   "source": [
    "SRC = '../data/cropped_segs_transformed'\n",
    "DST1 = '../data/noise_removed'\n",
    "DST2 = '../data/pile_up'\n",
    "MAX_CNT = '../data/max_cnt'"
   ]
  },
  {
   "cell_type": "code",
   "execution_count": 34,
   "metadata": {},
   "outputs": [],
   "source": [
    "def find_max_cnt(contours):\n",
    "    \"\"\"面積が最大の部分を取る\"\"\"\n",
    "    max_idx = -1\n",
    "    max_area = 0\n",
    "    for i, cnt in enumerate(contours):\n",
    "        if cv2.contourArea(cnt) > max_area:\n",
    "            max_idx = i\n",
    "            max_area = cv2.contourArea(cnt)\n",
    "    cnt = contours[max_idx]\n",
    "    return cnt"
   ]
  },
  {
   "cell_type": "code",
   "execution_count": 35,
   "metadata": {},
   "outputs": [
    {
     "name": "stdout",
     "output_type": "stream",
     "text": [
      "(2600, 2600, 3)\n",
      "(2600, 2600, 3)\n",
      "(2600, 2600, 3)\n",
      "(2600, 2600, 3)\n",
      "(2600, 2600, 3)\n",
      "(2600, 2600, 3)\n",
      "(2600, 2600, 3)\n",
      "(2600, 2600, 3)\n"
     ]
    },
    {
     "data": {
      "text/plain": [
       "True"
      ]
     },
     "execution_count": 35,
     "metadata": {},
     "output_type": "execute_result"
    }
   ],
   "source": [
    "prev = ''\n",
    "fnames = sorted(os.listdir(SRC))\n",
    "for fname in fnames:\n",
    "    img = cv2.imread(os.path.join(SRC, fname))\n",
    "    #fnameのアンダーバーまでを取得\n",
    "    root_name = re.findall('(.+)_', fname)[0]\n",
    "    if root_name != prev:\n",
    "        if fname != fnames[0]:\n",
    "            print(base_img.shape)\n",
    "            cv2.imwrite(os.path.join(DST2, prev +'.png'), base_img)\n",
    "            cv2.imwrite(os.path.join(DST2, fname), img)\n",
    "        base_img = img\n",
    "    else:\n",
    "        base_img = cv2.bitwise_or(base_img, img)\n",
    "    \n",
    "    cv2.imwrite(os.path.join(DST2, fname), base_img)\n",
    "    prev = root_name\n",
    "cv2.imwrite(os.path.join(DST2, root_name+'.png'), base_img)"
   ]
  },
  {
   "cell_type": "code",
   "execution_count": 26,
   "metadata": {},
   "outputs": [
    {
     "ename": "FileNotFoundError",
     "evalue": "[Errno 2] No such file or directory: '../data/pile-up'",
     "output_type": "error",
     "traceback": [
      "\u001b[0;31m---------------------------------------------------------------------------\u001b[0m",
      "\u001b[0;31mFileNotFoundError\u001b[0m                         Traceback (most recent call last)",
      "Cell \u001b[0;32mIn[26], line 1\u001b[0m\n\u001b[0;32m----> 1\u001b[0m fnames2 \u001b[38;5;241m=\u001b[39m \u001b[38;5;28msorted\u001b[39m(\u001b[43mos\u001b[49m\u001b[38;5;241;43m.\u001b[39;49m\u001b[43mlistdir\u001b[49m\u001b[43m(\u001b[49m\u001b[43mDST2\u001b[49m\u001b[43m)\u001b[49m)\n\u001b[1;32m      2\u001b[0m \u001b[38;5;28;01mfor\u001b[39;00m fname \u001b[38;5;129;01min\u001b[39;00m fnames2:\n\u001b[1;32m      3\u001b[0m     img \u001b[38;5;241m=\u001b[39m cv2\u001b[38;5;241m.\u001b[39mimread(os\u001b[38;5;241m.\u001b[39mpath\u001b[38;5;241m.\u001b[39mjoin(DST2, fname))\n",
      "\u001b[0;31mFileNotFoundError\u001b[0m: [Errno 2] No such file or directory: '../data/pile-up'"
     ]
    }
   ],
   "source": [
    "fnames2 = sorted(os.listdir(DST2))\n",
    "for fname in fnames2:\n",
    "    img = cv2.imread(os.path.join(DST2, fname))\n",
    "    gray = cv2.cvtColor(img,cv2.COLOR_BGR2GRAY)\n",
    "    ret,thresh = cv2.threshold(gray,1,255,0)\n",
    "    image, contours, hierarchy = cv2.findContours(thresh,cv2.RETR_TREE,cv2.CHAIN_APPROX_NONE)\n",
    "    cnt = find_max_cnt(contours)\n",
    "    blk = np.zeros(img.shape, np.uint8)\n",
    "    root = cv2.drawContours(blk, [cnt], 0, (255,255,255), -1)\n",
    "    cv2.imwrite(os.path.join(MAX_CNT, fname), root)"
   ]
  },
  {
   "cell_type": "code",
   "execution_count": 36,
   "metadata": {},
   "outputs": [
    {
     "name": "stderr",
     "output_type": "stream",
     "text": [
      "[ WARN:0@729.596] global loadsave.cpp:248 findDecoder imread_('../data/max_cnt/P_En1_05d_IMG.png'): can't open/read file: check file path/integrity\n"
     ]
    },
    {
     "ename": "error",
     "evalue": "OpenCV(4.9.0) /io/opencv/modules/core/src/arithm.cpp:212: error: (-209:Sizes of input arguments do not match) The operation is neither 'array op array' (where arrays have the same size and type), nor 'array op scalar', nor 'scalar op array' in function 'binary_op'\n",
     "output_type": "error",
     "traceback": [
      "\u001b[0;31m---------------------------------------------------------------------------\u001b[0m",
      "\u001b[0;31merror\u001b[0m                                     Traceback (most recent call last)",
      "Cell \u001b[0;32mIn[36], line 5\u001b[0m\n\u001b[1;32m      3\u001b[0m root_name \u001b[38;5;241m=\u001b[39m re\u001b[38;5;241m.\u001b[39mfindall(\u001b[38;5;124m'\u001b[39m\u001b[38;5;124m(.+)_\u001b[39m\u001b[38;5;124m'\u001b[39m, fname)[\u001b[38;5;241m0\u001b[39m]\n\u001b[1;32m      4\u001b[0m mask \u001b[38;5;241m=\u001b[39m cv2\u001b[38;5;241m.\u001b[39mimread(os\u001b[38;5;241m.\u001b[39mpath\u001b[38;5;241m.\u001b[39mjoin(MAX_CNT, root_name \u001b[38;5;241m+\u001b[39m \u001b[38;5;124m'\u001b[39m\u001b[38;5;124m.png\u001b[39m\u001b[38;5;124m'\u001b[39m))\n\u001b[0;32m----> 5\u001b[0m img \u001b[38;5;241m=\u001b[39m \u001b[43mcv2\u001b[49m\u001b[38;5;241;43m.\u001b[39;49m\u001b[43mbitwise_and\u001b[49m\u001b[43m(\u001b[49m\u001b[43mimg\u001b[49m\u001b[43m,\u001b[49m\u001b[43m \u001b[49m\u001b[43mmask\u001b[49m\u001b[43m)\u001b[49m\n\u001b[1;32m      6\u001b[0m cv2\u001b[38;5;241m.\u001b[39mimwrite(os\u001b[38;5;241m.\u001b[39mpath\u001b[38;5;241m.\u001b[39mjoin(DST1, fname), img)\n",
      "\u001b[0;31merror\u001b[0m: OpenCV(4.9.0) /io/opencv/modules/core/src/arithm.cpp:212: error: (-209:Sizes of input arguments do not match) The operation is neither 'array op array' (where arrays have the same size and type), nor 'array op scalar', nor 'scalar op array' in function 'binary_op'\n"
     ]
    }
   ],
   "source": [
    "for fname in fnames:\n",
    "    img = cv2.imread(os.path.join(SRC, fname))\n",
    "    root_name = re.findall('(.+)_', fname)[0]\n",
    "    mask = cv2.imread(os.path.join(MAX_CNT, root_name + '.png'))\n",
    "    img = cv2.bitwise_and(img, mask)\n",
    "    cv2.imwrite(os.path.join(DST1, fname), img)"
   ]
  }
 ],
 "metadata": {
  "kernelspec": {
   "display_name": "Python 3 (ipykernel)",
   "language": "python",
   "name": "python3"
  },
  "language_info": {
   "codemirror_mode": {
    "name": "ipython",
    "version": 3
   },
   "file_extension": ".py",
   "mimetype": "text/x-python",
   "name": "python",
   "nbconvert_exporter": "python",
   "pygments_lexer": "ipython3",
   "version": "3.9.18"
  }
 },
 "nbformat": 4,
 "nbformat_minor": 4
}
