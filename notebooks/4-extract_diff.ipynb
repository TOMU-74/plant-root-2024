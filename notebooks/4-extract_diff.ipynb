{
 "cells": [
  {
   "cell_type": "markdown",
   "metadata": {},
   "source": [
    "# 4. 差分の抽出\n",
    "成長過程の根を全て重ね合わせた画像（pileup）から、差分画像(diff)を生成"
   ]
  },
  {
   "cell_type": "code",
   "execution_count": 2,
   "metadata": {},
   "outputs": [],
   "source": [
    "import os\n",
    "import cv2\n",
    "import re\n",
    "import numpy as np"
   ]
  },
  {
   "cell_type": "code",
   "execution_count": 3,
   "metadata": {},
   "outputs": [],
   "source": [
    "import re\n",
    "from os.path import basename\n",
    "from glob import glob\n",
    "\n",
    "IMG = '../data/P_Pe2_o/pre_noise_removing_pileup_ogstep/*'\n",
    "paths = sorted(glob(IMG))"
   ]
  },
  {
   "cell_type": "markdown",
   "metadata": {},
   "source": [
    "## 全個体ver."
   ]
  },
  {
   "cell_type": "code",
   "execution_count": 54,
   "metadata": {},
   "outputs": [
    {
     "name": "stdout",
     "output_type": "stream",
     "text": [
      "['P_En1']\n",
      "['P_En2']\n",
      "['P_En3']\n",
      "['P_Pe1']\n",
      "['P_Pe2']\n",
      "['P_Pe3']\n",
      "['P_Wi1']\n",
      "['P_Wi2']\n",
      "['P_Wi3']\n"
     ]
    }
   ],
   "source": [
    "prev_root = ''\n",
    "kernel = np.ones((5,5),np.uint8)\n",
    "for path in paths:\n",
    "    root = re.findall('(P_.+)_.+_.+_', basename(path))\n",
    "    if prev_root != root:\n",
    "        print(root)\n",
    "        prev_root = root\n",
    "        base_img = cv2.imread(path)\n",
    "        continue\n",
    "    img = cv2.imread(path)\n",
    "\n",
    "    # 膨張処理した\n",
    "    dilate = cv2.dilate(base_img, kernel, iterations = 1)\n",
    "    bold_not = cv2.bitwise_not(dilate)[:,:,0].squeeze()\n",
    "\n",
    "    \n",
    "    diff = cv2.bitwise_and(img, img, mask = bold_not)\n",
    "    base_img = base_img + diff\n",
    "    ret,thresh = cv2.threshold(diff,100,255,0)\n",
    "    cv2.imwrite(path.replace('transformed_seg_noise_removed', 'diff_thresh'), thresh)\n",
    "    ret, diff_ = cv2.threshold(diff,1,255,0)\n",
    "    diff_[:,:,:2] = 0\n",
    "#     dst = cv2.bitwise_or(thresh, diff_)\n",
    "#     cv2.imwrite(path.replace('cropped_segs_noise_removed', 'check_thresh'), dst)\n",
    "#     prev_img = img\n",
    "#     prev_root = root"
   ]
  },
  {
   "cell_type": "markdown",
   "metadata": {},
   "source": [
    "## diff取り出しの実験"
   ]
  },
  {
   "cell_type": "markdown",
   "metadata": {},
   "source": [
    "boldじゃやないpile-upとの差分"
   ]
  },
  {
   "cell_type": "code",
   "execution_count": 19,
   "metadata": {},
   "outputs": [],
   "source": [
    "# prev_root = ''\n",
    "# kernel = np.ones((5,5),np.uint8)\n",
    "# for fname in fnames:\n",
    "#     root = re.findall('(.+)_', fname)[0]\n",
    "#     img = cv2.imread(os.path.join(IMG, fname))\n",
    "#     if prev_root != root:\n",
    "#         base_img = img\n",
    "#         prev_root = root\n",
    "#         continue\n",
    "#     dilate = cv2.dilate(base_img,kernel,iterations = 1)\n",
    "#     bold_not = cv2.bitwise_not(dilate)[:,:,0].squeeze()\n",
    "#     diff = cv2.bitwise_and(img, img, mask = bold_not)\n",
    "#     base_img = base_img + diff\n",
    "#     cv2.imwrite(os.path.join('../diff_pile-up_itr1', fname), diff)\n",
    "    \n",
    "# #     prev_img = img\n",
    "#     prev_root = root"
   ]
  },
  {
   "cell_type": "markdown",
   "metadata": {},
   "source": [
    "ちょいずれによる差分は画素値小さいのでthereshで除去を試みる，thresh前とどれくらい違うのかを確認するためbitwiseORで色を変えて重ねる"
   ]
  },
  {
   "cell_type": "markdown",
   "metadata": {},
   "source": [
    "## 1個体ver."
   ]
  },
  {
   "cell_type": "code",
   "execution_count": 20,
   "metadata": {},
   "outputs": [],
   "source": [
    "import re\n",
    "from os.path import basename\n",
    "from glob import glob\n",
    "\n",
    "IMG = '../data/P_Pe2_o/pre_noise_removing_pileup_ogstep/*'\n",
    "paths = sorted(glob(IMG))"
   ]
  },
  {
   "cell_type": "code",
   "execution_count": 21,
   "metadata": {},
   "outputs": [],
   "source": [
    "prev_root = ''\n",
    "kernel = np.ones((5,5),np.uint8)\n",
    "base_img = cv2.imread(paths[0])\n",
    "for path in paths[1:]:\n",
    "    img = cv2.imread(path)\n",
    "    dilate = cv2.dilate(base_img, kernel, iterations = 1)\n",
    "    bold_not = cv2.bitwise_not(dilate)[:,:,0].squeeze()\n",
    "    diff = cv2.bitwise_and(img, img, mask = bold_not)\n",
    "    base_img = base_img + diff\n",
    "    ret,thresh = cv2.threshold(diff,100,255,0)\n",
    "    cv2.imwrite(path.replace('pre_noise_removing_pileup_ogstep', 'diff_thresh_pre_noise_removing_pileup_ogstep'), thresh)\n",
    "#     ret, diff_ = cv2.threshold(diff,1,255,0)\n",
    "#     diff_[:,:,:2] = 0\n",
    "#     dst = cv2.bitwise_or(thresh, diff_)\n",
    "#     cv2.imwrite(path.replace('pileup3', 'check_thresh'), dst)\n",
    "#     prev_img = img\n",
    "#     prev_root = root"
   ]
  },
  {
   "cell_type": "code",
   "execution_count": 19,
   "metadata": {},
   "outputs": [],
   "source": [
    "DST = '../diff_er2dl'"
   ]
  },
  {
   "cell_type": "code",
   "execution_count": null,
   "metadata": {},
   "outputs": [],
   "source": [
    "kernel = np.ones((3,3),np.uint8)\n",
    "for fname in fnames:\n",
    "    thre = cv2.imread(os.path.join(THRE, fname))\n",
    "    erosion = cv2.erode(thre,kernel,iterations = 1)\n",
    "    erosion_ = cv2.dilate(erosion,kernel,iterations = 1)\n",
    "#     cv2.imwrite(os.path.join(DST, fname), erosion_)"
   ]
  },
  {
   "cell_type": "code",
   "execution_count": 20,
   "metadata": {},
   "outputs": [],
   "source": [
    "import re"
   ]
  },
  {
   "cell_type": "code",
   "execution_count": 31,
   "metadata": {},
   "outputs": [],
   "source": [
    "for fname in fnames:\n",
    "    date = re.findall('_(\\d+)', fname)[0]\n",
    "    if date == '211122':\n",
    "        base = cv2.imread('../../noise-removed/' + fname)\n",
    "    else:\n",
    "        diff = cv2.imread(os.path.join(DST, fname))\n",
    "#         diff_red = diff + 0\n",
    "#         diff_red[:,:,:2] = 1\n",
    "#         base_or_diff = cv2.bitwise_or(base, diff_red)\n",
    "#         base_or_diff_ = cv2.dilate(base_or_diff, kernel)\n",
    "#         base_or_diff_ = cv2.erode(base_or_diff_, kernel)\n",
    "#         cv2.imwrite('../check_connect/' + fname, base_or_diff_)\n",
    "        base_or_diff = cv2.bitwise_or(base, diff)\n",
    "        base_or_diff_ = cv2.dilate(base_or_diff, kernel)\n",
    "        base_or_diff_ = cv2.erode(base_or_diff_, kernel)\n",
    "        base_not = cv2.bitwise_not(base)\n",
    "        diff_ = cv2.bitwise_and(base_or_diff_, base_not)\n",
    "        base = base_or_diff_\n",
    "        cv2.imwrite('../diff_connect/' + fname, diff_)\n",
    "#         base = base\n",
    "#         base_or_diff_ = cv2.erode(base_or_diff_, kernel)"
   ]
  },
  {
   "cell_type": "code",
   "execution_count": null,
   "metadata": {},
   "outputs": [],
   "source": []
  }
 ],
 "metadata": {
  "kernelspec": {
   "display_name": "Python 3 (ipykernel)",
   "language": "python",
   "name": "python3"
  },
  "language_info": {
   "codemirror_mode": {
    "name": "ipython",
    "version": 3
   },
   "file_extension": ".py",
   "mimetype": "text/x-python",
   "name": "python",
   "nbconvert_exporter": "python",
   "pygments_lexer": "ipython3",
   "version": "3.9.18"
  }
 },
 "nbformat": 4,
 "nbformat_minor": 4
}
